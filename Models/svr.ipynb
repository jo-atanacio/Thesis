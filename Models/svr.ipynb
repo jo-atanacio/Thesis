{
 "cells": [
  {
   "cell_type": "code",
   "execution_count": 1,
   "metadata": {},
   "outputs": [],
   "source": [
    "import numpy as np\n",
    "import pandas as pd\n",
    "\n",
    "from sklearn.preprocessing import MinMaxScaler\n",
    "from sklearn import metrics\n",
    "from sklearn.model_selection import train_test_split\n",
    "from sklearn.svm import SVR\n",
    "from sklearn.metrics import r2_score\n",
    "from statsmodels.tsa.stattools import adfuller\n",
    "from sklearn.impute import KNNImputer\n",
    "\n",
    "import warnings\n",
    "warnings.simplefilter('ignore')\n",
    "pd.set_option('display.max_columns', None)"
   ]
  },
  {
   "cell_type": "code",
   "execution_count": 2,
   "metadata": {},
   "outputs": [],
   "source": [
    "df = pd.read_csv(\"../working_data/dataset.csv\", index_col=0)"
   ]
  },
  {
   "cell_type": "code",
   "execution_count": 3,
   "metadata": {},
   "outputs": [],
   "source": [
    "df = df[df[\"Category\"] != \"Industrial Crops\"]"
   ]
  },
  {
   "attachments": {},
   "cell_type": "markdown",
   "metadata": {},
   "source": [
    "## Creating working data frame"
   ]
  },
  {
   "cell_type": "code",
   "execution_count": 5,
   "metadata": {},
   "outputs": [],
   "source": [
    "#df['Year'] = pd.to_datetime(df['Year'], format='%Y')\n",
    "#df.set_index(\"Year\", inplace=True)\n",
    "# getting list of names\n",
    "categories = df[\"Category\"].unique()"
   ]
  },
  {
   "attachments": {},
   "cell_type": "markdown",
   "metadata": {},
   "source": [
    "## Creating the metrics data frame"
   ]
  },
  {
   "cell_type": "code",
   "execution_count": 6,
   "metadata": {},
   "outputs": [],
   "source": [
    "def calculate_metrics(df, crop_name, y_true, y_pred):\n",
    "    mae = metrics.mean_absolute_error(y_true, y_pred)\n",
    "    mse = metrics.mean_squared_error(y_true, y_pred)\n",
    "    rmse = np.sqrt(mse)\n",
    "    r2 = r2_score(y_true, y_pred)\n",
    "    y_test_avg = pd.DataFrame(y_true).mean()\n",
    "    y_pred_avg = y_pred.mean()\n",
    "\n",
    "    df.loc[crop_name] = [mae, mse, rmse, r2, y_test_avg[0], y_pred_avg]"
   ]
  },
  {
   "cell_type": "code",
   "execution_count": 7,
   "metadata": {},
   "outputs": [],
   "source": [
    "quality_metrics = ['RF_MAE', 'RF_MSE', 'RF_RMSE', \"RF_R2\", \"Actual Yield\", \"Predicted Yield\"]\n",
    "error_df = pd.DataFrame(columns = quality_metrics, index = categories)\n",
    "#display(error_df)"
   ]
  },
  {
   "attachments": {},
   "cell_type": "markdown",
   "metadata": {},
   "source": [
    "## Support Vector Regression"
   ]
  },
  {
   "attachments": {},
   "cell_type": "markdown",
   "metadata": {},
   "source": [
    "### Setting up dataframe\n",
    "\n",
    "#### - Solving for stationarity"
   ]
  },
  {
   "cell_type": "code",
   "execution_count": 8,
   "metadata": {},
   "outputs": [],
   "source": [
    "imputer = KNNImputer(n_neighbors=4)\n",
    "adf_df = pd.DataFrame(columns=df.columns)\n",
    "\n",
    "for cate in categories: \n",
    "    # Selects category\n",
    "    crop_df = df[df[\"Category\"] == cate]\n",
    "    num_cols = crop_df.select_dtypes(include=[np.number])\n",
    "    # Selects column for ADF Test\n",
    "    for col in num_cols:\n",
    "        if crop_df[col].count() < 5:\n",
    "            continue\n",
    "        adf_result = adfuller(crop_df[col])\n",
    "        while adf_result[1] > 0.05:\n",
    "            crop_df[col] = crop_df[col].diff()\n",
    "            crop_df[num_cols.columns] = imputer.fit_transform(crop_df[num_cols.columns])\n",
    "            adf_result = adfuller(crop_df[col])\n",
    "\n",
    "    adf_df = pd.concat([adf_df, crop_df])"
   ]
  },
  {
   "attachments": {},
   "cell_type": "markdown",
   "metadata": {},
   "source": [
    "#### - Transforming time series data to supervised learning (adding lags to variables)"
   ]
  },
  {
   "cell_type": "code",
   "execution_count": 9,
   "metadata": {},
   "outputs": [],
   "source": [
    "main_df = pd.DataFrame(columns=adf_df.columns)\n",
    "imputer = KNNImputer(n_neighbors=4)\n",
    "\n",
    "# Sliding Window\n",
    "for cate in categories: \n",
    "    # Selects category\n",
    "    crop_df = adf_df[adf_df[\"Category\"] == cate]\n",
    "    num_cols = crop_df.select_dtypes(include=[np.number])\n",
    "    for col in num_cols.columns:   \n",
    "        for i in range(1, 3):\n",
    "            crop_df[f'{col}-{i}'] = crop_df[col].shift(i)\n",
    "\n",
    "    main_df = pd.concat([main_df, crop_df])\n",
    "    num_cols = main_df.select_dtypes(include=[np.number])\n",
    "    main_df[num_cols.columns] = imputer.fit_transform(main_df[num_cols.columns])"
   ]
  },
  {
   "attachments": {},
   "cell_type": "markdown",
   "metadata": {},
   "source": [
    "## Running the model"
   ]
  },
  {
   "cell_type": "code",
   "execution_count": 14,
   "metadata": {},
   "outputs": [],
   "source": [
    "scaler = MinMaxScaler()\n",
    "for cat in categories:\n",
    "   crop_df = main_df[main_df['Category'] == cat]\n",
    "   encoded_df = pd.get_dummies(crop_df[[\"Season\"]], prefix='', prefix_sep='')\n",
    "   encoded_df = encoded_df.drop(encoded_df.columns[-1], axis=1)\n",
    "   \n",
    "   y = crop_df[['Yield (tonnes/ha)']]\n",
    "   x = crop_df.drop(['Yield (tonnes/ha)', \"Item\", \"Category\", \"Season\"], axis=1)\n",
    "   x = pd.concat([x, encoded_df], axis=1)\n",
    "   \n",
    "\n",
    "   mean = x.mean()\n",
    "   std = x.std()\n",
    "   lower_bound = mean - 2 * std\n",
    "   upper_bound = mean + 2 * std\n",
    "   x = x.clip(lower_bound, upper_bound, axis=1)\n",
    "\n",
    "   x = scaler.fit_transform(x)\n",
    "\n",
    "   x_train, x_test, y_train, y_test = train_test_split(x, y, test_size=0.2, shuffle=False)\n",
    "   regressor = SVR(kernel=\"rbf\", C=100, epsilon=0.15)\n",
    "   regressor.fit(x_train, y_train)\n",
    "\n",
    "   #prediction of new value\n",
    "   y_pred = regressor.predict(x_test)\n",
    "   calculate_metrics(error_df, cat, y_test, y_pred)"
   ]
  },
  {
   "attachments": {},
   "cell_type": "markdown",
   "metadata": {},
   "source": [
    "## Result"
   ]
  },
  {
   "cell_type": "code",
   "execution_count": 15,
   "metadata": {},
   "outputs": [
    {
     "data": {
      "text/html": [
       "<div>\n",
       "<style scoped>\n",
       "    .dataframe tbody tr th:only-of-type {\n",
       "        vertical-align: middle;\n",
       "    }\n",
       "\n",
       "    .dataframe tbody tr th {\n",
       "        vertical-align: top;\n",
       "    }\n",
       "\n",
       "    .dataframe thead th {\n",
       "        text-align: right;\n",
       "    }\n",
       "</style>\n",
       "<table border=\"1\" class=\"dataframe\">\n",
       "  <thead>\n",
       "    <tr style=\"text-align: right;\">\n",
       "      <th></th>\n",
       "      <th>RF_MAE</th>\n",
       "      <th>RF_MSE</th>\n",
       "      <th>RF_RMSE</th>\n",
       "      <th>RF_R2</th>\n",
       "      <th>Actual Yield</th>\n",
       "      <th>Predicted Yield</th>\n",
       "    </tr>\n",
       "  </thead>\n",
       "  <tbody>\n",
       "    <tr>\n",
       "      <th>Vegetables and Legumes</th>\n",
       "      <td>27.484351</td>\n",
       "      <td>2650.544616</td>\n",
       "      <td>51.48344</td>\n",
       "      <td>0.203412</td>\n",
       "      <td>45.004377</td>\n",
       "      <td>29.583396</td>\n",
       "    </tr>\n",
       "    <tr>\n",
       "      <th>Cereals</th>\n",
       "      <td>1.063254</td>\n",
       "      <td>1.901629</td>\n",
       "      <td>1.378996</td>\n",
       "      <td>0.702423</td>\n",
       "      <td>0.022847</td>\n",
       "      <td>-0.156352</td>\n",
       "    </tr>\n",
       "    <tr>\n",
       "      <th>Fruits and Nuts</th>\n",
       "      <td>4.778909</td>\n",
       "      <td>38.301243</td>\n",
       "      <td>6.1888</td>\n",
       "      <td>0.297543</td>\n",
       "      <td>9.75563</td>\n",
       "      <td>10.762902</td>\n",
       "    </tr>\n",
       "  </tbody>\n",
       "</table>\n",
       "</div>"
      ],
      "text/plain": [
       "                           RF_MAE       RF_MSE   RF_RMSE     RF_R2  \\\n",
       "Vegetables and Legumes  27.484351  2650.544616  51.48344  0.203412   \n",
       "Cereals                  1.063254     1.901629  1.378996  0.702423   \n",
       "Fruits and Nuts          4.778909    38.301243    6.1888  0.297543   \n",
       "\n",
       "                       Actual Yield Predicted Yield  \n",
       "Vegetables and Legumes    45.004377       29.583396  \n",
       "Cereals                    0.022847       -0.156352  \n",
       "Fruits and Nuts             9.75563       10.762902  "
      ]
     },
     "execution_count": 15,
     "metadata": {},
     "output_type": "execute_result"
    }
   ],
   "source": [
    "error_df"
   ]
  }
 ],
 "metadata": {
  "kernelspec": {
   "display_name": "thesis",
   "language": "python",
   "name": "python3"
  },
  "language_info": {
   "codemirror_mode": {
    "name": "ipython",
    "version": 3
   },
   "file_extension": ".py",
   "mimetype": "text/x-python",
   "name": "python",
   "nbconvert_exporter": "python",
   "pygments_lexer": "ipython3",
   "version": "3.10.9"
  },
  "orig_nbformat": 4
 },
 "nbformat": 4,
 "nbformat_minor": 2
}
