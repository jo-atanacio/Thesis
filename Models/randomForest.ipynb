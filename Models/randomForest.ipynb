{
 "cells": [
  {
   "cell_type": "code",
   "execution_count": 1,
   "metadata": {},
   "outputs": [],
   "source": [
    "import numpy as np\n",
    "import pandas as pd\n",
    "import matplotlib.pyplot as plt\n",
    "import seaborn as sns\n",
    "\n",
    "from sklearn import metrics\n",
    "from sklearn.preprocessing import StandardScaler, MinMaxScaler\n",
    "from sklearn.model_selection import train_test_split\n",
    "from sklearn.ensemble import RandomForestRegressor\n",
    "from sklearn.metrics import r2_score\n",
    "\n",
    "import warnings\n",
    "warnings.simplefilter('ignore')"
   ]
  },
  {
   "cell_type": "code",
   "execution_count": 2,
   "metadata": {},
   "outputs": [],
   "source": [
    "df = pd.read_csv(\"../working_data/dataset.csv\", index_col=0)"
   ]
  },
  {
   "attachments": {},
   "cell_type": "markdown",
   "metadata": {},
   "source": [
    "## Creating working data frame"
   ]
  },
  {
   "cell_type": "code",
   "execution_count": 3,
   "metadata": {},
   "outputs": [],
   "source": [
    "crops = ['Wheat', 'Barley', 'Maize', 'Sugar beet', 'Potatoes', 'Rye', 'Rape', 'Apples', 'Grapes', 'Cabbages']\n",
    "mask = df[\"Item\"].str.contains(\"|\".join(crops))\n",
    "df = df[mask]\n",
    "df.reset_index(drop=True, inplace=True)\n",
    "crop_names = df[\"Item\"].unique()"
   ]
  },
  {
   "attachments": {},
   "cell_type": "markdown",
   "metadata": {},
   "source": [
    "## Creating the metrics data frame"
   ]
  },
  {
   "cell_type": "code",
   "execution_count": 4,
   "metadata": {},
   "outputs": [],
   "source": [
    "def calculate_metrics(df, crop_name, y_true, y_pred):\n",
    "    mae = metrics.mean_absolute_error(y_true, y_pred)\n",
    "    mse = metrics.mean_squared_error(y_true, y_pred)\n",
    "    rmse = np.sqrt(mse)\n",
    "    mape = metrics.mean_absolute_percentage_error(y_true, y_pred)\n",
    "    r2 = r2_score(y_true, y_pred)\n",
    "    df.loc[crop_name] = [mae, mse, rmse, mape, r2, y_true.values[0][0], y_pred[0]]"
   ]
  },
  {
   "cell_type": "code",
   "execution_count": 5,
   "metadata": {},
   "outputs": [],
   "source": [
    "quality_metrics = ['RF_MAE', 'RF_MSE', 'RF_RMSE',\"RF_MAPE\", \"RF_R2\", \"Actual Yield\", \"Predicted Yield\"]\n",
    "error_df = pd.DataFrame(columns = quality_metrics, index = crop_names)\n",
    "#display(error_df)"
   ]
  },
  {
   "attachments": {},
   "cell_type": "markdown",
   "metadata": {},
   "source": [
    "## Random Forest Regression"
   ]
  },
  {
   "cell_type": "code",
   "execution_count": 6,
   "metadata": {},
   "outputs": [],
   "source": [
    "for crop in crop_names:\n",
    "   crop_df = df[df['Item'] == crop]\n",
    "   x = crop_df[[\n",
    "      'Year', \n",
    "      'Change (C)', 'Annual Mean Precipitation',\n",
    "      'Air Temp Mean', 'Frost Days', 'Hot Days', \n",
    "      'Ice Days', 'Summer Days','Sunshine Duration', \n",
    "      'Tropical Nights', 'Mean CO2 (ppm)', \"Devil\",\t\n",
    "      'Gustnado',\t'Hail',\t'Ice',\t'Precip',\t'Snow',\t\n",
    "      'Tornado',\t'Wind',\t'Total']]\n",
    "   \n",
    "   y = crop_df[['Yield (tonnes/ha)']]\n",
    "\n",
    "   scaler = MinMaxScaler()\n",
    "   regressor = RandomForestRegressor(n_estimators=200, random_state=15)\n",
    "\n",
    "   x_train, x_test, y_train, y_test = train_test_split(x, y, test_size=0.1, shuffle=True)\n",
    "   x_train = scaler.fit_transform(x_train)\n",
    "   x_test = scaler.transform(x_test)\n",
    "   \n",
    "   regressor.fit(x_train, y_train)\n",
    "\n",
    "   #prediction of new value\n",
    "   y_pred = regressor.predict(x_test)\n",
    "   crop_c = crop\n",
    "   calculate_metrics(error_df, crop_c , y_test, y_pred)"
   ]
  },
  {
   "attachments": {},
   "cell_type": "markdown",
   "metadata": {},
   "source": [
    "## Result"
   ]
  },
  {
   "cell_type": "code",
   "execution_count": 7,
   "metadata": {},
   "outputs": [
    {
     "data": {
      "text/html": [
       "<div>\n",
       "<style scoped>\n",
       "    .dataframe tbody tr th:only-of-type {\n",
       "        vertical-align: middle;\n",
       "    }\n",
       "\n",
       "    .dataframe tbody tr th {\n",
       "        vertical-align: top;\n",
       "    }\n",
       "\n",
       "    .dataframe thead th {\n",
       "        text-align: right;\n",
       "    }\n",
       "</style>\n",
       "<table border=\"1\" class=\"dataframe\">\n",
       "  <thead>\n",
       "    <tr style=\"text-align: right;\">\n",
       "      <th></th>\n",
       "      <th>RF_MAE</th>\n",
       "      <th>RF_MSE</th>\n",
       "      <th>RF_RMSE</th>\n",
       "      <th>RF_MAPE</th>\n",
       "      <th>RF_R2</th>\n",
       "      <th>Actual Yield</th>\n",
       "      <th>Predicted Yield</th>\n",
       "    </tr>\n",
       "  </thead>\n",
       "  <tbody>\n",
       "    <tr>\n",
       "      <th>Barley</th>\n",
       "      <td>0.239906</td>\n",
       "      <td>0.092436</td>\n",
       "      <td>0.304034</td>\n",
       "      <td>0.050422</td>\n",
       "      <td>0.804653</td>\n",
       "      <td>4.9292</td>\n",
       "      <td>4.780217</td>\n",
       "    </tr>\n",
       "    <tr>\n",
       "      <th>Cabbages</th>\n",
       "      <td>2.226492</td>\n",
       "      <td>13.105293</td>\n",
       "      <td>3.620123</td>\n",
       "      <td>0.065279</td>\n",
       "      <td>0.852515</td>\n",
       "      <td>54.1249</td>\n",
       "      <td>54.868058</td>\n",
       "    </tr>\n",
       "    <tr>\n",
       "      <th>Maize (corn)</th>\n",
       "      <td>0.823133</td>\n",
       "      <td>0.875587</td>\n",
       "      <td>0.935728</td>\n",
       "      <td>0.094179</td>\n",
       "      <td>0.22653</td>\n",
       "      <td>8.1561</td>\n",
       "      <td>8.867046</td>\n",
       "    </tr>\n",
       "    <tr>\n",
       "      <th>Potatoes</th>\n",
       "      <td>3.26743</td>\n",
       "      <td>12.304692</td>\n",
       "      <td>3.507805</td>\n",
       "      <td>0.115011</td>\n",
       "      <td>0.787443</td>\n",
       "      <td>39.8258</td>\n",
       "      <td>41.27215</td>\n",
       "    </tr>\n",
       "    <tr>\n",
       "      <th>Rape or colza seed</th>\n",
       "      <td>0.460376</td>\n",
       "      <td>0.290423</td>\n",
       "      <td>0.538909</td>\n",
       "      <td>0.144822</td>\n",
       "      <td>-0.459227</td>\n",
       "      <td>2.7379</td>\n",
       "      <td>3.011215</td>\n",
       "    </tr>\n",
       "    <tr>\n",
       "      <th>Rye</th>\n",
       "      <td>0.565815</td>\n",
       "      <td>0.443882</td>\n",
       "      <td>0.666245</td>\n",
       "      <td>0.100818</td>\n",
       "      <td>0.34345</td>\n",
       "      <td>6.132</td>\n",
       "      <td>5.019002</td>\n",
       "    </tr>\n",
       "    <tr>\n",
       "      <th>Sugar beet</th>\n",
       "      <td>5.362695</td>\n",
       "      <td>42.415538</td>\n",
       "      <td>6.512721</td>\n",
       "      <td>0.088843</td>\n",
       "      <td>0.584547</td>\n",
       "      <td>55.2381</td>\n",
       "      <td>57.725626</td>\n",
       "    </tr>\n",
       "    <tr>\n",
       "      <th>Wheat</th>\n",
       "      <td>0.402649</td>\n",
       "      <td>0.256388</td>\n",
       "      <td>0.506347</td>\n",
       "      <td>0.070909</td>\n",
       "      <td>0.837092</td>\n",
       "      <td>8.0873</td>\n",
       "      <td>7.552508</td>\n",
       "    </tr>\n",
       "    <tr>\n",
       "      <th>Apples</th>\n",
       "      <td>5.238494</td>\n",
       "      <td>31.207966</td>\n",
       "      <td>5.586409</td>\n",
       "      <td>0.270147</td>\n",
       "      <td>-0.556607</td>\n",
       "      <td>15.8809</td>\n",
       "      <td>23.834753</td>\n",
       "    </tr>\n",
       "    <tr>\n",
       "      <th>Grapes</th>\n",
       "      <td>0.477701</td>\n",
       "      <td>0.259739</td>\n",
       "      <td>0.509646</td>\n",
       "      <td>0.036949</td>\n",
       "      <td>0.471205</td>\n",
       "      <td>13.4028</td>\n",
       "      <td>14.0581</td>\n",
       "    </tr>\n",
       "  </tbody>\n",
       "</table>\n",
       "</div>"
      ],
      "text/plain": [
       "                      RF_MAE     RF_MSE   RF_RMSE   RF_MAPE     RF_R2  \\\n",
       "Barley              0.239906   0.092436  0.304034  0.050422  0.804653   \n",
       "Cabbages            2.226492  13.105293  3.620123  0.065279  0.852515   \n",
       "Maize (corn)        0.823133   0.875587  0.935728  0.094179   0.22653   \n",
       "Potatoes             3.26743  12.304692  3.507805  0.115011  0.787443   \n",
       "Rape or colza seed  0.460376   0.290423  0.538909  0.144822 -0.459227   \n",
       "Rye                 0.565815   0.443882  0.666245  0.100818   0.34345   \n",
       "Sugar beet          5.362695  42.415538  6.512721  0.088843  0.584547   \n",
       "Wheat               0.402649   0.256388  0.506347  0.070909  0.837092   \n",
       "Apples              5.238494  31.207966  5.586409  0.270147 -0.556607   \n",
       "Grapes              0.477701   0.259739  0.509646  0.036949  0.471205   \n",
       "\n",
       "                   Actual Yield Predicted Yield  \n",
       "Barley                   4.9292        4.780217  \n",
       "Cabbages                54.1249       54.868058  \n",
       "Maize (corn)             8.1561        8.867046  \n",
       "Potatoes                39.8258        41.27215  \n",
       "Rape or colza seed       2.7379        3.011215  \n",
       "Rye                       6.132        5.019002  \n",
       "Sugar beet              55.2381       57.725626  \n",
       "Wheat                    8.0873        7.552508  \n",
       "Apples                  15.8809       23.834753  \n",
       "Grapes                  13.4028         14.0581  "
      ]
     },
     "execution_count": 7,
     "metadata": {},
     "output_type": "execute_result"
    }
   ],
   "source": [
    "error_df"
   ]
  }
 ],
 "metadata": {
  "kernelspec": {
   "display_name": "thesis",
   "language": "python",
   "name": "python3"
  },
  "language_info": {
   "codemirror_mode": {
    "name": "ipython",
    "version": 3
   },
   "file_extension": ".py",
   "mimetype": "text/x-python",
   "name": "python",
   "nbconvert_exporter": "python",
   "pygments_lexer": "ipython3",
   "version": "3.10.9"
  },
  "orig_nbformat": 4
 },
 "nbformat": 4,
 "nbformat_minor": 2
}
