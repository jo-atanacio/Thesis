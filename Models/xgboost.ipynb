{
 "cells": [
  {
   "cell_type": "code",
   "execution_count": 1,
   "metadata": {},
   "outputs": [],
   "source": [
    "import numpy as np\n",
    "import pandas as pd\n",
    "import matplotlib.pyplot as plt\n",
    "import seaborn as sns\n",
    "\n",
    "from sklearn import metrics\n",
    "from sklearn.preprocessing import StandardScaler, MinMaxScaler\n",
    "from sklearn.model_selection import train_test_split\n",
    "import xgboost as xgb\n",
    "from sklearn.metrics import r2_score\n",
    "\n",
    "import warnings\n",
    "warnings.simplefilter('ignore')"
   ]
  },
  {
   "cell_type": "code",
   "execution_count": 2,
   "metadata": {},
   "outputs": [],
   "source": [
    "df = pd.read_csv(\"../working_data/dataset.csv\", index_col=0)"
   ]
  },
  {
   "cell_type": "markdown",
   "metadata": {},
   "source": [
    "## Creating working data frame"
   ]
  },
  {
   "cell_type": "code",
   "execution_count": 3,
   "metadata": {},
   "outputs": [],
   "source": [
    "crops = ['Wheat', 'Barley', 'Maize', 'Sugar beet', 'Potatoes', 'Rye', 'Rape', 'Apples', 'Grapes', 'Cabbages']\n",
    "mask = df[\"Item\"].str.contains(\"|\".join(crops))\n",
    "df = df[mask]\n",
    "df.reset_index(drop=True, inplace=True)\n",
    "crop_names = df[\"Item\"].unique()"
   ]
  },
  {
   "cell_type": "markdown",
   "metadata": {},
   "source": [
    "## Creating the metrics data frame"
   ]
  },
  {
   "cell_type": "code",
   "execution_count": 4,
   "metadata": {},
   "outputs": [],
   "source": [
    "def calculate_metrics(df, crop_name, y_true, y_pred):\n",
    "    mae = metrics.mean_absolute_error(y_true, y_pred)\n",
    "    mse = metrics.mean_squared_error(y_true, y_pred)\n",
    "    rmse = np.sqrt(mse)\n",
    "    mape = metrics.mean_absolute_percentage_error(y_true, y_pred)\n",
    "    r2 = r2_score(y_true, y_pred)\n",
    "    df.loc[crop_name] = [mae, mse, rmse, mape, r2, y_true.values[0][0], y_pred[0]]"
   ]
  },
  {
   "cell_type": "code",
   "execution_count": 5,
   "metadata": {},
   "outputs": [],
   "source": [
    "quality_metrics = ['xgb_MAE', 'xgb_MSE', 'xgb_RMSE', \"xgb_MAPE\",\"xgb_R2\", \"Actual Yield\", \"Predicted Yield\"]\n",
    "error_df = pd.DataFrame(columns = quality_metrics, index = crop_names)\n",
    "#display(error_df)"
   ]
  },
  {
   "attachments": {},
   "cell_type": "markdown",
   "metadata": {},
   "source": [
    "## XGBoost (eXtreme Gradient Boosting)"
   ]
  },
  {
   "cell_type": "code",
   "execution_count": 6,
   "metadata": {},
   "outputs": [],
   "source": [
    "for crop in crop_names:\n",
    "   crop_df = df[df['Item'] == crop]\n",
    "   x = crop_df[[\n",
    "      'Year', \n",
    "      'Change (C)', 'Annual Mean Precipitation',\n",
    "      'Air Temp Mean', 'Frost Days', 'Hot Days', \n",
    "      'Ice Days', 'Summer Days','Sunshine Duration', \n",
    "      'Tropical Nights', 'Mean CO2 (ppm)', \"Devil\",\t\n",
    "      'Gustnado',\t'Hail',\t'Ice',\t'Precip',\t'Snow',\t\n",
    "      'Tornado',\t'Wind',\t'Total']]\n",
    "   \n",
    "   y = crop_df[['Yield (tonnes/ha)']]\n",
    "\n",
    "   scaler = MinMaxScaler()\n",
    "   regressor = xgb.XGBRegressor(n_estimators=200, objective=\"reg:squarederror\", random_state=15)\n",
    "\n",
    "   x_train, x_test, y_train, y_test = train_test_split(x, y, test_size=0.1, shuffle=True)\n",
    "   x_train = scaler.fit_transform(x_train)\n",
    "   x_test = scaler.transform(x_test)\n",
    "   \n",
    "   regressor.fit(x_train, y_train)\n",
    "\n",
    "   #prediction of new value\n",
    "   y_pred = regressor.predict(x_test)\n",
    "   crop_c = crop\n",
    "   calculate_metrics(error_df, crop_c , y_test, y_pred)"
   ]
  },
  {
   "attachments": {},
   "cell_type": "markdown",
   "metadata": {},
   "source": [
    "## Result"
   ]
  },
  {
   "cell_type": "code",
   "execution_count": 7,
   "metadata": {},
   "outputs": [
    {
     "data": {
      "text/html": [
       "<div>\n",
       "<style scoped>\n",
       "    .dataframe tbody tr th:only-of-type {\n",
       "        vertical-align: middle;\n",
       "    }\n",
       "\n",
       "    .dataframe tbody tr th {\n",
       "        vertical-align: top;\n",
       "    }\n",
       "\n",
       "    .dataframe thead th {\n",
       "        text-align: right;\n",
       "    }\n",
       "</style>\n",
       "<table border=\"1\" class=\"dataframe\">\n",
       "  <thead>\n",
       "    <tr style=\"text-align: right;\">\n",
       "      <th></th>\n",
       "      <th>xgb_MAE</th>\n",
       "      <th>xgb_MSE</th>\n",
       "      <th>xgb_RMSE</th>\n",
       "      <th>xgb_MAPE</th>\n",
       "      <th>xgb_R2</th>\n",
       "      <th>Actual Yield</th>\n",
       "      <th>Predicted Yield</th>\n",
       "    </tr>\n",
       "  </thead>\n",
       "  <tbody>\n",
       "    <tr>\n",
       "      <th>Barley</th>\n",
       "      <td>0.516198</td>\n",
       "      <td>0.377799</td>\n",
       "      <td>0.614653</td>\n",
       "      <td>0.100414</td>\n",
       "      <td>-1.695563</td>\n",
       "      <td>5.4651</td>\n",
       "      <td>6.538125</td>\n",
       "    </tr>\n",
       "    <tr>\n",
       "      <th>Cabbages</th>\n",
       "      <td>2.763236</td>\n",
       "      <td>12.858989</td>\n",
       "      <td>3.585943</td>\n",
       "      <td>0.0553</td>\n",
       "      <td>-0.308046</td>\n",
       "      <td>55.8827</td>\n",
       "      <td>55.757137</td>\n",
       "    </tr>\n",
       "    <tr>\n",
       "      <th>Maize (corn)</th>\n",
       "      <td>0.367697</td>\n",
       "      <td>0.154853</td>\n",
       "      <td>0.393513</td>\n",
       "      <td>0.049043</td>\n",
       "      <td>0.939602</td>\n",
       "      <td>9.4475</td>\n",
       "      <td>9.186249</td>\n",
       "    </tr>\n",
       "    <tr>\n",
       "      <th>Potatoes</th>\n",
       "      <td>2.706513</td>\n",
       "      <td>11.668918</td>\n",
       "      <td>3.41598</td>\n",
       "      <td>0.099745</td>\n",
       "      <td>-0.779689</td>\n",
       "      <td>32.9512</td>\n",
       "      <td>32.530441</td>\n",
       "    </tr>\n",
       "    <tr>\n",
       "      <th>Rape or colza seed</th>\n",
       "      <td>0.223571</td>\n",
       "      <td>0.082944</td>\n",
       "      <td>0.288</td>\n",
       "      <td>0.067718</td>\n",
       "      <td>0.799141</td>\n",
       "      <td>2.4255</td>\n",
       "      <td>2.648148</td>\n",
       "    </tr>\n",
       "    <tr>\n",
       "      <th>Rye</th>\n",
       "      <td>0.322685</td>\n",
       "      <td>0.197058</td>\n",
       "      <td>0.443912</td>\n",
       "      <td>0.07369</td>\n",
       "      <td>0.741192</td>\n",
       "      <td>5.7857</td>\n",
       "      <td>5.213073</td>\n",
       "    </tr>\n",
       "    <tr>\n",
       "      <th>Sugar beet</th>\n",
       "      <td>4.381952</td>\n",
       "      <td>24.318702</td>\n",
       "      <td>4.9314</td>\n",
       "      <td>0.075317</td>\n",
       "      <td>0.851003</td>\n",
       "      <td>56.3591</td>\n",
       "      <td>59.772633</td>\n",
       "    </tr>\n",
       "    <tr>\n",
       "      <th>Wheat</th>\n",
       "      <td>0.58477</td>\n",
       "      <td>0.364821</td>\n",
       "      <td>0.604004</td>\n",
       "      <td>0.082695</td>\n",
       "      <td>0.631607</td>\n",
       "      <td>6.2734</td>\n",
       "      <td>6.775066</td>\n",
       "    </tr>\n",
       "    <tr>\n",
       "      <th>Apples</th>\n",
       "      <td>4.547911</td>\n",
       "      <td>26.602158</td>\n",
       "      <td>5.157728</td>\n",
       "      <td>0.173707</td>\n",
       "      <td>-2.414847</td>\n",
       "      <td>24.1236</td>\n",
       "      <td>16.386459</td>\n",
       "    </tr>\n",
       "    <tr>\n",
       "      <th>Grapes</th>\n",
       "      <td>1.11286</td>\n",
       "      <td>2.379071</td>\n",
       "      <td>1.542424</td>\n",
       "      <td>0.089972</td>\n",
       "      <td>-7.574293</td>\n",
       "      <td>12.3493</td>\n",
       "      <td>14.530155</td>\n",
       "    </tr>\n",
       "  </tbody>\n",
       "</table>\n",
       "</div>"
      ],
      "text/plain": [
       "                     xgb_MAE    xgb_MSE  xgb_RMSE  xgb_MAPE    xgb_R2  \\\n",
       "Barley              0.516198   0.377799  0.614653  0.100414 -1.695563   \n",
       "Cabbages            2.763236  12.858989  3.585943    0.0553 -0.308046   \n",
       "Maize (corn)        0.367697   0.154853  0.393513  0.049043  0.939602   \n",
       "Potatoes            2.706513  11.668918   3.41598  0.099745 -0.779689   \n",
       "Rape or colza seed  0.223571   0.082944     0.288  0.067718  0.799141   \n",
       "Rye                 0.322685   0.197058  0.443912   0.07369  0.741192   \n",
       "Sugar beet          4.381952  24.318702    4.9314  0.075317  0.851003   \n",
       "Wheat                0.58477   0.364821  0.604004  0.082695  0.631607   \n",
       "Apples              4.547911  26.602158  5.157728  0.173707 -2.414847   \n",
       "Grapes               1.11286   2.379071  1.542424  0.089972 -7.574293   \n",
       "\n",
       "                   Actual Yield Predicted Yield  \n",
       "Barley                   5.4651        6.538125  \n",
       "Cabbages                55.8827       55.757137  \n",
       "Maize (corn)             9.4475        9.186249  \n",
       "Potatoes                32.9512       32.530441  \n",
       "Rape or colza seed       2.4255        2.648148  \n",
       "Rye                      5.7857        5.213073  \n",
       "Sugar beet              56.3591       59.772633  \n",
       "Wheat                    6.2734        6.775066  \n",
       "Apples                  24.1236       16.386459  \n",
       "Grapes                  12.3493       14.530155  "
      ]
     },
     "execution_count": 7,
     "metadata": {},
     "output_type": "execute_result"
    }
   ],
   "source": [
    "error_df"
   ]
  }
 ],
 "metadata": {
  "kernelspec": {
   "display_name": "thesis",
   "language": "python",
   "name": "python3"
  },
  "language_info": {
   "codemirror_mode": {
    "name": "ipython",
    "version": 3
   },
   "file_extension": ".py",
   "mimetype": "text/x-python",
   "name": "python",
   "nbconvert_exporter": "python",
   "pygments_lexer": "ipython3",
   "version": "3.10.9"
  },
  "orig_nbformat": 4
 },
 "nbformat": 4,
 "nbformat_minor": 2
}
