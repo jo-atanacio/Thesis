{
 "cells": [
  {
   "cell_type": "code",
   "execution_count": null,
   "metadata": {},
   "outputs": [],
   "source": [
    "import pandas as pd\n",
    "pd.set_option('display.max_columns', None)"
   ]
  },
  {
   "cell_type": "code",
   "execution_count": null,
   "metadata": {},
   "outputs": [],
   "source": [
    "df = pd.read_csv(\"resp_2.csv\")\n",
    "df = df.drop(df.columns[[0,1]], axis=1)\n",
    "df.head(3)"
   ]
  },
  {
   "cell_type": "code",
   "execution_count": null,
   "metadata": {},
   "outputs": [],
   "source": [
    "df = df.rename(columns={df.columns[0]: \"quadrant\", df.columns[1]: \"male\", df.columns[2]:\"age\", df.columns[3]:\"region\", df.columns[4]:\"country_income\", df.columns[5]:\"iba_iem_gem\",\n",
    "                        df.columns[6]: \"major\", df.columns[7]: \"ibcm_jsc\", df.columns[8]:\"gpa\", df.columns[9]:\"finance\", df.columns[10]:\"parents_employmnent\", df.columns[11]:\"germany\",\n",
    "                        df.columns[12]: \"parents_self\", df.columns[13]: \"parents_invest\", df.columns[14]:\"parents_business\", df.columns[15]:\"safety\", df.columns[16]:\"perfectionist\",\n",
    "                        df.columns[17]: \"leader\", df.columns[18]: \"teamwork\", df.columns[19]:\"open_ended\", df.columns[20]:\"people\"})"
   ]
  },
  {
   "cell_type": "code",
   "execution_count": null,
   "metadata": {},
   "outputs": [],
   "source": [
    "df.head(2)"
   ]
  },
  {
   "cell_type": "code",
   "execution_count": null,
   "metadata": {},
   "outputs": [],
   "source": [
    "df.loc[df[\"male\"] == \"Female\", \"male\"] = 0\n",
    "df.loc[df[\"male\"] == \"Male\", \"male\"] = 1\n",
    "df.loc[df[\"country_income\"] == \"High income, Upper-middle income\", \"country_income\"] = 1\n",
    "df.loc[df[\"country_income\"] == \"Lower-middle income, Low income\", \"country_income\"] = 0\n",
    "df.loc[df[\"iba_iem_gem\"] == \"Yes\", \"iba_iem_gem\"] = 1\n",
    "df.loc[df[\"iba_iem_gem\"] == \"No\", \"iba_iem_gem\"] = 0\n",
    "df.loc[df[\"ibcm_jsc\"] == \"Yes\", \"ibcm_jsc\"] = 1\n",
    "df.loc[df[\"ibcm_jsc\"] == \"No\", \"ibcm_jsc\"] = 0\n",
    "df.loc[df[\"finance\"] == \"Yes\", \"finance\"] = 1\n",
    "df.loc[df[\"finance\"] == \"No\", \"finance\"] = 0\n",
    "df.loc[df[\"parents_employmnent\"] == \"Yes\", \"parents_employmnent\"] = 1\n",
    "df.loc[df[\"parents_employmnent\"] == \"No\", \"parents_employmnent\"] = 0\n",
    "df.loc[df[\"germany\"] == \"Yes\", \"germany\"] = 1\n",
    "df.loc[df[\"germany\"] == \"No\", \"germany\"] = 0\n",
    "df.loc[df[\"parents_self\"] == \"Yes\", \"parents_self\"] = 1\n",
    "df.loc[df[\"parents_self\"] == \"No\", \"parents_self\"] = 0\n",
    "df.loc[df[\"parents_invest\"] == \"Yes\", \"parents_invest\"] = 1\n",
    "df.loc[df[\"parents_invest\"] == \"No\", \"parents_invest\"] = 0\n",
    "df.loc[df[\"parents_business\"] == \"Yes\", \"parents_business\"] = 1\n",
    "df.loc[df[\"parents_business\"] == \"No\", \"parents_business\"] = 0\n",
    "df[\"quadrant\"] = df[\"quadrant\"].str.replace(\"Self-employment\", \"Self-employed\", regex=True)\n",
    "df[\"quadrant\"] = df[\"quadrant\"].str.replace(\"Employment\", \"Employee\", regex=True)"
   ]
  },
  {
   "cell_type": "code",
   "execution_count": null,
   "metadata": {},
   "outputs": [],
   "source": [
    "df.head(5)"
   ]
  },
  {
   "cell_type": "code",
   "execution_count": null,
   "metadata": {},
   "outputs": [],
   "source": [
    "df[\"quadrant\"].unique()"
   ]
  },
  {
   "cell_type": "code",
   "execution_count": null,
   "metadata": {},
   "outputs": [],
   "source": [
    "df[\"quadrant\"] = df[\"quadrant\"].map(lambda x: x.replace(\",\",''))"
   ]
  },
  {
   "cell_type": "code",
   "execution_count": null,
   "metadata": {},
   "outputs": [],
   "source": [
    "lst = [\"Investor\", \"Employee\", \"Self-employed\", \"None of the above\", \"Business owner\"]\n",
    "\n",
    "for quadrant in lst:\n",
    "    df[quadrant] = 0\n",
    "    for row in [df[\"quadrant\"]]:\n",
    "        df[quadrant] += row.str.count(quadrant)"
   ]
  },
  {
   "cell_type": "code",
   "execution_count": null,
   "metadata": {},
   "outputs": [],
   "source": [
    "df"
   ]
  },
  {
   "cell_type": "code",
   "execution_count": null,
   "metadata": {},
   "outputs": [],
   "source": [
    "df.to_csv(\"thesis_2.csv\")"
   ]
  },
  {
   "cell_type": "code",
   "execution_count": null,
   "metadata": {},
   "outputs": [],
   "source": []
  }
 ],
 "metadata": {
  "kernelspec": {
   "display_name": "thesis",
   "language": "python",
   "name": "python3"
  },
  "language_info": {
   "codemirror_mode": {
    "name": "ipython",
    "version": 3
   },
   "file_extension": ".py",
   "mimetype": "text/x-python",
   "name": "python",
   "nbconvert_exporter": "python",
   "pygments_lexer": "ipython3",
   "version": "3.10.9"
  },
  "orig_nbformat": 4,
  "vscode": {
   "interpreter": {
    "hash": "5b82cb95f575702eca06d75183fa8fa1e5544b8111a83618f59e72b8b54a8f9a"
   }
  }
 },
 "nbformat": 4,
 "nbformat_minor": 2
}
