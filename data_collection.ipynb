{
 "cells": [
  {
   "cell_type": "code",
   "execution_count": null,
   "metadata": {},
   "outputs": [],
   "source": [
    "import pandas as pd\n",
    "import seaborn as sns\n",
    "import matplotlib.pyplot as plt\n",
    "import numpy as np\n",
    "pd.options.display.max_columns"
   ]
  },
  {
   "attachments": {},
   "cell_type": "markdown",
   "metadata": {},
   "source": [
    "### Creating the working set (FAO Data)"
   ]
  },
  {
   "cell_type": "code",
   "execution_count": null,
   "metadata": {},
   "outputs": [],
   "source": [
    "crop_harvest = pd.read_csv(\"./raw_data/fao_data/fao_harvest.csv\")\n",
    "crop_prod = pd.read_csv(\"./raw_data/fao_data/fao_prod.csv\")\n",
    "crop_yield = pd.read_csv(\"./raw_data/fao_data/fao_yield.csv\")\n",
    "change_temp = pd.read_csv(\"./raw_data/fao_data/fao_temp.csv\")"
   ]
  },
  {
   "cell_type": "code",
   "execution_count": null,
   "metadata": {},
   "outputs": [],
   "source": [
    "crop_harvest = crop_harvest.loc[(crop_harvest[\"Flag\"] == \"A\") | (crop_harvest[\"Flag\"] == \"E\")]\n",
    "crop_harvest = crop_harvest.reset_index(drop=True)\n",
    "crop_harvest = crop_harvest.drop_duplicates()\n",
    "\n",
    "crop_prod = crop_prod.loc[(crop_prod[\"Flag\"] == \"A\") | (crop_prod[\"Flag\"] == \"E\")]\n",
    "crop_prod = crop_prod.reset_index(drop=True)\n",
    "crop_prod = crop_prod.drop_duplicates()\n",
    "\n",
    "crop_yield = crop_yield.loc[(crop_yield[\"Flag\"] == \"A\") | (crop_yield[\"Flag\"] == \"E\")]\n",
    "crop_yield = crop_yield.reset_index(drop=True)\n",
    "crop_yield = crop_yield.drop_duplicates()\n",
    "crop_yield[\"Value\"] = crop_yield[\"Value\"].apply(lambda x: x / 10_000)\n",
    "\n",
    "change_temp = change_temp.loc[(change_temp[\"Flag\"] == \"A\") | (change_temp[\"Flag\"] == \"E\")]\n",
    "change_temp = change_temp.reset_index(drop=True)\n",
    "change_temp = change_temp.drop_duplicates()\n",
    "change_temp = change_temp[change_temp[\"Element\"] == \"Temperature change\"]"
   ]
  },
  {
   "cell_type": "code",
   "execution_count": null,
   "metadata": {},
   "outputs": [],
   "source": [
    "crop_harvest = crop_harvest.rename(columns={\"Value\":\"Harvest (ha)\"})\n",
    "crop_prod = crop_prod.rename(columns={\"Value\":\"Production (tonnes)\"})\n",
    "crop_yield = crop_yield.rename(columns={\"Value\":\"Yield (tonnes/ha)\"})\n",
    "change_temp = change_temp.rename(columns={\"Value\":\"Change (C)\"})"
   ]
  },
  {
   "cell_type": "code",
   "execution_count": null,
   "metadata": {},
   "outputs": [],
   "source": [
    "# Combines both dataframes and creates the final FAO dataframe\n",
    "## Keep 5 columns, year item Harvest (ha) Production (tonnes) Yiel (tonnes/ha)\n",
    "final_fao = crop_yield[[\"Year\",\"Item\", \"Yield (tonnes/ha)\"]] \\\n",
    ".merge(crop_harvest[[\"Year\",\"Item\", \"Harvest (ha)\"]], on=[\"Year\", \"Item\"], how=\"inner\")\n",
    "final_fao = final_fao.merge(crop_prod[[\"Year\",\"Item\", \"Production (tonnes)\"]], on=[\"Year\", \"Item\"], how=\"inner\")\n",
    "final_fao = final_fao.merge(change_temp[[\"Year\", \"Change (C)\"]], on=\"Year\", how=\"inner\")\n",
    "final_fao"
   ]
  },
  {
   "cell_type": "code",
   "execution_count": null,
   "metadata": {},
   "outputs": [],
   "source": [
    "# Overlook of data\n",
    "final_fao[(final_fao[\"Year\"] == 2021)].sample(10)# & final_data[\"Item\"] == \"Wheat\"]#.iloc[0]"
   ]
  },
  {
   "attachments": {},
   "cell_type": "markdown",
   "metadata": {},
   "source": [
    "### Creating the working Subset (DWD Data)"
   ]
  },
  {
   "cell_type": "code",
   "execution_count": null,
   "metadata": {},
   "outputs": [],
   "source": [
    "precip = pd.read_csv(\"./raw_data/precipitation/observed_average_annual_precipitation.csv\")\n",
    "air_temp_mean = pd.read_csv(\"./raw_data/air_temperature/average_air_temperature.txt\", sep=\";\", index_col=False)\n",
    "frost_days = pd.read_csv(\"./raw_data/frost_days/regional_averages_tnas_year.txt\", sep=\";\", skiprows=1)\n",
    "hot_days = pd.read_csv(\"./raw_data/hot_days/regional_averages_txbs_year.txt\", sep=\";\", skiprows=1)\n",
    "ice_days = pd.read_csv(\"./raw_data/ice_days/regional_averages_txcs_year.txt\", sep=\";\", skiprows=1)\n",
    "summer_days = pd.read_csv(\"./raw_data/summer_days/regional_averages_txas_year.txt\", sep=\";\", skiprows=1)#, index_col=False) \n",
    "sunshine_duration = pd.read_csv(\"./raw_data/sunshine_duration/regional_averages_sd_year.txt\", sep=\";\", skiprows=1) # hours\n",
    "tropical_nights = pd.read_csv(\"./raw_data/tropical_nights/regional_averages_tnes_year.txt\", sep=\";\",skiprows=1)"
   ]
  },
  {
   "cell_type": "code",
   "execution_count": null,
   "metadata": {},
   "outputs": [],
   "source": [
    "# Changing hours to days\n",
    "sunshine_duration[\"Deutschland\"] = sunshine_duration[\"Deutschland\"].apply(lambda x: (x / 24) / 365)"
   ]
  },
  {
   "cell_type": "code",
   "execution_count": null,
   "metadata": {},
   "outputs": [],
   "source": [
    "# creating sub dataframes for ease of use\n",
    "de_pre = precip[[\"Category\", \"Annual Mean\"]]\n",
    "de_pre = de_pre.rename(columns={\"Annual Mean\":\"Annual Mean Precipitation\"})\n",
    "de_temp = air_temp_mean[[\"Jahr\", \"Deutschland\"]]\n",
    "de_temp = de_temp.rename(columns={\"Deutschland\":\"Air Temp Mean\"})\n",
    "de_frost = frost_days[[\"Jahr\", \"Deutschland\"]]\n",
    "de_frost = de_frost.rename(columns={\"Deutschland\":\"Frost Days\"})\n",
    "de_hot = hot_days[[\"Jahr\", \"Deutschland\"]]\n",
    "de_hot = de_hot.rename(columns={\"Deutschland\":\"Hot Days\"})\n",
    "de_ice = ice_days[[\"Jahr\", \"Deutschland\"]]\n",
    "de_ice = de_ice.rename(columns={\"Deutschland\":\"Ice Days\"})\n",
    "de_sum = summer_days[[\"Jahr\", \"Deutschland\"]]\n",
    "de_sum = de_sum.rename(columns={\"Deutschland\":\"Summer Days\"})\n",
    "de_sun = sunshine_duration[[\"Jahr\", \"Deutschland\"]]\n",
    "de_sun = de_sun.rename(columns={\"Deutschland\":\"Sunshine Duration\"})\n",
    "de_trop = tropical_nights[[\"Jahr\", \"Deutschland\"]]\n",
    "de_trop = de_trop.rename(columns={\"Deutschland\":\"Tropical Nights\"})"
   ]
  },
  {
   "cell_type": "code",
   "execution_count": null,
   "metadata": {},
   "outputs": [],
   "source": [
    "## Merging all of the sub dataframes\n",
    "final_dwd = de_pre.merge(de_temp, how=\"inner\", left_on=\"Category\", right_on=\"Jahr\").merge(de_frost, how=\"inner\").\\\n",
    "                    merge(de_hot, how=\"inner\").merge(de_ice, how=\"inner\").merge(de_sum, how=\"inner\").merge(de_sun, how=\"inner\").merge(de_trop, how=\"inner\")"
   ]
  },
  {
   "cell_type": "code",
   "execution_count": null,
   "metadata": {},
   "outputs": [],
   "source": [
    "# master_dwd = master_dwd.set_index(\"Jahr\", drop=True)\n",
    "final_dwd = final_dwd.drop(columns=[\"Category\"])\n",
    "final_dwd = final_dwd.rename(columns={\"Jahr\":\"Year\"})"
   ]
  },
  {
   "cell_type": "code",
   "execution_count": null,
   "metadata": {},
   "outputs": [],
   "source": [
    "final_dwd"
   ]
  },
  {
   "attachments": {},
   "cell_type": "markdown",
   "metadata": {},
   "source": [
    "### Random Data"
   ]
  },
  {
   "cell_type": "code",
   "execution_count": null,
   "metadata": {},
   "outputs": [],
   "source": [
    "co2 = np.loadtxt(r\"./raw_data/co2_mm_mlo.txt\")\n",
    "co2 = pd.DataFrame(data=co2, columns=[\"Year\",\"Month\",\"decimal date\", \"monthly average\", \"de-seasonalized\", \" number of days\", \"st.dev of days\", \"unc. of monthly mean\"])\n",
    "co2[\"Year\"] = co2[\"Year\"].astype(int)"
   ]
  },
  {
   "cell_type": "code",
   "execution_count": null,
   "metadata": {},
   "outputs": [],
   "source": [
    "co2.dtypes"
   ]
  },
  {
   "cell_type": "code",
   "execution_count": null,
   "metadata": {},
   "outputs": [],
   "source": [
    "co2 = co2[[\"Year\", \"monthly average\"]]\n",
    "co2 = co2.groupby(\"Year\", as_index=False).mean()"
   ]
  },
  {
   "cell_type": "code",
   "execution_count": null,
   "metadata": {},
   "outputs": [],
   "source": [
    "co2"
   ]
  },
  {
   "cell_type": "markdown",
   "metadata": {},
   "source": [
    "### Merging all datasets (FAO DWD RANDOM)"
   ]
  },
  {
   "cell_type": "code",
   "execution_count": null,
   "metadata": {},
   "outputs": [],
   "source": [
    "final_data = final_fao.merge(final_dwd, how=\"inner\", left_on=\"Year\", right_on=\"Year\")\n",
    "final_data = final_data.merge(co2, how=\"inner\", left_on=\"Year\", right_on=\"Year\")"
   ]
  },
  {
   "cell_type": "code",
   "execution_count": null,
   "metadata": {},
   "outputs": [],
   "source": [
    "final_data = final_data.sort_values(by=[\"Year\", \"Item\"], ignore_index=True)\n",
    "final_data"
   ]
  },
  {
   "attachments": {},
   "cell_type": "markdown",
   "metadata": {},
   "source": [
    "## Saving the final dataframe into a csv"
   ]
  },
  {
   "cell_type": "code",
   "execution_count": null,
   "metadata": {},
   "outputs": [],
   "source": [
    "final_data.to_csv(\"dataset.csv\")"
   ]
  }
 ],
 "metadata": {
  "kernelspec": {
   "display_name": "thesis",
   "language": "python",
   "name": "python3"
  },
  "language_info": {
   "codemirror_mode": {
    "name": "ipython",
    "version": 3
   },
   "file_extension": ".py",
   "mimetype": "text/x-python",
   "name": "python",
   "nbconvert_exporter": "python",
   "pygments_lexer": "ipython3",
   "version": "3.10.9"
  },
  "orig_nbformat": 4,
  "vscode": {
   "interpreter": {
    "hash": "5b82cb95f575702eca06d75183fa8fa1e5544b8111a83618f59e72b8b54a8f9a"
   }
  }
 },
 "nbformat": 4,
 "nbformat_minor": 2
}
