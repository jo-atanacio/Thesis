{
 "cells": [
  {
   "cell_type": "code",
   "execution_count": null,
   "metadata": {},
   "outputs": [],
   "source": [
    "import pandas as pd\n",
    "import seaborn as sns\n",
    "import matplotlib.pyplot as plt"
   ]
  },
  {
   "cell_type": "code",
   "execution_count": null,
   "metadata": {},
   "outputs": [],
   "source": [
    "crop_yield = pd.read_csv(\"./raw_data/fao_data/FAOSTAT_data_en_2-9-2023.csv\")\n",
    "change_temp = pd.read_csv(\"./raw_data/fao_data/FAOSTAT_data_en_2-9-2023 (1).csv\")\n",
    "precip = pd.read_csv(\"./raw_data/precipitation/observed_average_annual_precipitation.csv\")\n",
    "air_temp_mean = pd.read_csv(\"./raw_data/air_temperature/average_air_temperature.txt\", sep=\";\", index_col=False)\n",
    "frost_days = pd.read_csv(\"./raw_data/frost_days/regional_averages_tnas_year.txt\", sep=\";\", skiprows=1)\n",
    "hot_days = pd.read_csv(\"./raw_data/hot_days/regional_averages_txbs_year.txt\", sep=\";\", skiprows=1)\n",
    "ice_days = pd.read_csv(\"./raw_data/ice_days/regional_averages_txcs_year.txt\", sep=\";\", skiprows=1)\n",
    "summer_days = pd.read_csv(\"./raw_data/summer_days/regional_averages_txas_year.txt\", sep=\";\", skiprows=1)#, index_col=False) \n",
    "sunshine_duration = pd.read_csv(\"./raw_data/sunshine_duration/regional_averages_sd_year.txt\", sep=\";\", skiprows=1) # hours\n",
    "tropical_nights = pd.read_csv(\"./raw_data/tropical_nights/regional_averages_tnes_year.txt\", sep=\";\",skiprows=1)"
   ]
  },
  {
   "attachments": {},
   "cell_type": "markdown",
   "metadata": {},
   "source": [
    "### Creating the working set (FAO Data)"
   ]
  },
  {
   "cell_type": "code",
   "execution_count": null,
   "metadata": {},
   "outputs": [],
   "source": [
    "crop_data_official = crop_yield.loc[(crop_yield[\"Flag\"] == \"A\") | (crop_yield[\"Flag\"] == \"E\")]\n",
    "crop_data_official = crop_yield.loc[(crop_yield[\"Element\"] == \"Yield\")]\n",
    "crop_data_official = crop_data_official.reset_index(drop=True)\n",
    "crop_data_official = crop_data_official.drop_duplicates()\n",
    "crop_data_official.shape"
   ]
  },
  {
   "cell_type": "code",
   "execution_count": null,
   "metadata": {},
   "outputs": [],
   "source": [
    "temp_data = change_temp\n",
    "temp_change_data = temp_data[temp_data[\"Element\"] == \"Temperature change\"]\n",
    "temp_change_data.shape"
   ]
  },
  {
   "cell_type": "code",
   "execution_count": null,
   "metadata": {},
   "outputs": [],
   "source": [
    "# Combines both dataframes and creates the final FAO dataframe\n",
    "final_fao = crop_data_official[[\"Year\", \"Flag Description\", \"Element\", \"Item\", \"Value\", \"Unit\"]] \\\n",
    ".merge(temp_change_data[[\"Year\", \"Flag Description\", \"Element\", \"Value\", \"Unit\"]], left_on=\"Year\", right_on=\"Year\", how=\"inner\")\n",
    "final_fao"
   ]
  },
  {
   "cell_type": "code",
   "execution_count": null,
   "metadata": {},
   "outputs": [],
   "source": [
    "final_fao[(final_fao[\"Year\"] == 2010)].sample(10)# & final_data[\"Item\"] == \"Wheat\"]#.iloc[0]"
   ]
  },
  {
   "cell_type": "code",
   "execution_count": null,
   "metadata": {},
   "outputs": [],
   "source": [
    "final_fao = final_fao.drop(\"Flag Description_y\", axis=1)\n",
    "final_fao = final_fao.rename(columns={\"Flag Description_x\":\"Flag Description\", \"Value_x\":\"Value\", \n",
    "                                      \"Unit_x\":\"Unit\", \"Element_x\": \"Food Element\", \"Element_y\":\"Temperature Element\", \n",
    "                                      \"Value_y\":\"Degrees\", \"Unit_y\":\"Temp Unit\"})"
   ]
  },
  {
   "cell_type": "code",
   "execution_count": null,
   "metadata": {},
   "outputs": [],
   "source": [
    "final_fao"
   ]
  },
  {
   "attachments": {},
   "cell_type": "markdown",
   "metadata": {},
   "source": [
    "### Creating the working Subset (DWD Data)"
   ]
  },
  {
   "cell_type": "code",
   "execution_count": null,
   "metadata": {},
   "outputs": [],
   "source": [
    "de_pre = precip[[\"Category\", \"Annual Mean\"]]\n",
    "de_temp = air_temp_mean[[\"Jahr\", \"Deutschland\"]]\n",
    "de_frost = frost_days[[\"Jahr\", \"Deutschland\"]]\n",
    "de_hot = hot_days[[\"Jahr\", \"Deutschland\"]]\n",
    "de_ice = ice_days[[\"Jahr\", \"Deutschland\"]]\n",
    "de_sum = summer_days[[\"Jahr\", \"Deutschland\"]]\n",
    "de_sun = sunshine_duration[[\"Jahr\", \"Deutschland\"]]\n",
    "de_trop = tropical_nights[[\"Jahr\", \"Deutschland\"]]\n",
    "\n",
    "master_data = [de_pre, de_temp, de_frost, de_hot, de_ice, de_sum, de_sum, de_trop]"
   ]
  },
  {
   "cell_type": "code",
   "execution_count": null,
   "metadata": {},
   "outputs": [],
   "source": [
    "sunshine_duration[\"modified\"] = sunshine_duration[\"Deutschland\"].apply(lambda x: (x / 24) / 365)\n",
    "sunshine_duration = sunshine_duration[\"modified\"]"
   ]
  },
  {
   "cell_type": "code",
   "execution_count": null,
   "metadata": {},
   "outputs": [],
   "source": [
    "sunshine_duration"
   ]
  },
  {
   "cell_type": "code",
   "execution_count": null,
   "metadata": {},
   "outputs": [],
   "source": [
    "plt.figure(figsize=(7, 7))\n",
    "heatmap = sns.heatmap(final_data.corr(method='kendall'), annot=True)\n",
    "heatmap.set_title('Kendall Correlation Heatmap', fontdict={'fontsize':12}, pad=12);\n",
    "plt.show()"
   ]
  },
  {
   "cell_type": "code",
   "execution_count": null,
   "metadata": {},
   "outputs": [],
   "source": []
  }
 ],
 "metadata": {
  "kernelspec": {
   "display_name": "thesis",
   "language": "python",
   "name": "python3"
  },
  "language_info": {
   "codemirror_mode": {
    "name": "ipython",
    "version": 3
   },
   "file_extension": ".py",
   "mimetype": "text/x-python",
   "name": "python",
   "nbconvert_exporter": "python",
   "pygments_lexer": "ipython3",
   "version": "3.10.9"
  },
  "orig_nbformat": 4,
  "vscode": {
   "interpreter": {
    "hash": "5b82cb95f575702eca06d75183fa8fa1e5544b8111a83618f59e72b8b54a8f9a"
   }
  }
 },
 "nbformat": 4,
 "nbformat_minor": 2
}
